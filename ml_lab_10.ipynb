{
  "cells": [
    {
      "cell_type": "markdown",
      "metadata": {
        "id": "view-in-github",
        "colab_type": "text"
      },
      "source": [
        "<a href=\"https://colab.research.google.com/github/TheHstler/Bonus-Lab-ML/blob/main/ml_lab_10.ipynb\" target=\"_parent\"><img src=\"https://colab.research.google.com/assets/colab-badge.svg\" alt=\"Open In Colab\"/></a>"
      ]
    },
    {
      "cell_type": "markdown",
      "metadata": {
        "id": "fO-dSZpB--__"
      },
      "source": [
        "# ML Lab 09\n",
        "\n",
        "Hyper-parameter optimisation, feature selection and and feature importance.\n",
        "\n",
        "## Imports"
      ]
    },
    {
      "cell_type": "code",
      "execution_count": 1,
      "metadata": {
        "ExecuteTime": {
          "end_time": "2023-05-15T12:36:01.002663Z",
          "start_time": "2023-05-15T12:35:53.589356Z"
        },
        "id": "HrNTAcyt-_AA"
      },
      "outputs": [],
      "source": [
        "# Data and Datasets\n",
        "import pandas as pd\n",
        "from sklearn.datasets import load_wine\n",
        "\n",
        "# Validation methods\n",
        "from sklearn.model_selection import train_test_split\n",
        "from sklearn.model_selection import cross_val_score\n",
        "from sklearn.model_selection import cross_validate\n",
        "from sklearn.model_selection import StratifiedKFold\n",
        "\n",
        "# Metrics\n",
        "from sklearn import metrics\n",
        "from sklearn.metrics import make_scorer\n",
        "from sklearn.metrics import accuracy_score\n",
        "from sklearn.metrics import precision_score\n",
        "from sklearn.metrics import recall_score\n",
        "\n",
        "# Classifiers\n",
        "from sklearn import tree\n",
        "from sklearn.tree import DecisionTreeClassifier\n",
        "from sklearn.ensemble import RandomForestClassifier\n",
        "\n",
        "# Hyper-parameter optimisation\n",
        "from sklearn.model_selection import GridSearchCV\n",
        "from sklearn.model_selection import RandomizedSearchCV\n",
        "\n",
        "# Feature selection & feature engineering\n",
        "from sklearn.feature_selection import RFE\n",
        "from sklearn.feature_selection import RFECV\n",
        "\n",
        "# Stats\n",
        "from scipy.stats import randint as sp_randint\n",
        "\n",
        "# Visualisation\n",
        "import matplotlib.pyplot as plt\n",
        "import seaborn as sns\n",
        "from IPython.display import SVG\n",
        "from graphviz import Source\n",
        "from IPython.display import display\n",
        "from sklearn.tree import export_graphviz\n",
        "\n",
        "# Utils\n",
        "import pprint\n",
        "import numpy as np\n",
        "from time import time"
      ]
    },
    {
      "cell_type": "markdown",
      "metadata": {
        "id": "oW-HLrzm-_AA"
      },
      "source": [
        "## Loading wine dataset"
      ]
    },
    {
      "cell_type": "code",
      "execution_count": 2,
      "metadata": {
        "ExecuteTime": {
          "end_time": "2023-05-15T12:36:01.040814Z",
          "start_time": "2023-05-15T12:36:01.004023Z"
        },
        "colab": {
          "base_uri": "https://localhost:8080/",
          "height": 244
        },
        "id": "239IOVyq-_AA",
        "outputId": "73f8e5f7-c734-4d80-ca42-b91db29aec53"
      },
      "outputs": [
        {
          "output_type": "stream",
          "name": "stdout",
          "text": [
            "Shape of feature matrix: (178, 13)\n"
          ]
        },
        {
          "output_type": "execute_result",
          "data": {
            "text/plain": [
              "   alcohol  malic_acid   ash  alcalinity_of_ash  magnesium  total_phenols  \\\n",
              "0    14.23        1.71  2.43               15.6      127.0           2.80   \n",
              "1    13.20        1.78  2.14               11.2      100.0           2.65   \n",
              "2    13.16        2.36  2.67               18.6      101.0           2.80   \n",
              "3    14.37        1.95  2.50               16.8      113.0           3.85   \n",
              "4    13.24        2.59  2.87               21.0      118.0           2.80   \n",
              "\n",
              "   flavanoids  nonflavanoid_phenols  proanthocyanins  color_intensity   hue  \\\n",
              "0        3.06                  0.28             2.29             5.64  1.04   \n",
              "1        2.76                  0.26             1.28             4.38  1.05   \n",
              "2        3.24                  0.30             2.81             5.68  1.03   \n",
              "3        3.49                  0.24             2.18             7.80  0.86   \n",
              "4        2.69                  0.39             1.82             4.32  1.04   \n",
              "\n",
              "   od280/od315_of_diluted_wines  proline  target  \n",
              "0                          3.92   1065.0       0  \n",
              "1                          3.40   1050.0       0  \n",
              "2                          3.17   1185.0       0  \n",
              "3                          3.45   1480.0       0  \n",
              "4                          2.93    735.0       0  "
            ],
            "text/html": [
              "\n",
              "  <div id=\"df-13e0d4cc-d123-4804-af5e-59e577e8b147\" class=\"colab-df-container\">\n",
              "    <div>\n",
              "<style scoped>\n",
              "    .dataframe tbody tr th:only-of-type {\n",
              "        vertical-align: middle;\n",
              "    }\n",
              "\n",
              "    .dataframe tbody tr th {\n",
              "        vertical-align: top;\n",
              "    }\n",
              "\n",
              "    .dataframe thead th {\n",
              "        text-align: right;\n",
              "    }\n",
              "</style>\n",
              "<table border=\"1\" class=\"dataframe\">\n",
              "  <thead>\n",
              "    <tr style=\"text-align: right;\">\n",
              "      <th></th>\n",
              "      <th>alcohol</th>\n",
              "      <th>malic_acid</th>\n",
              "      <th>ash</th>\n",
              "      <th>alcalinity_of_ash</th>\n",
              "      <th>magnesium</th>\n",
              "      <th>total_phenols</th>\n",
              "      <th>flavanoids</th>\n",
              "      <th>nonflavanoid_phenols</th>\n",
              "      <th>proanthocyanins</th>\n",
              "      <th>color_intensity</th>\n",
              "      <th>hue</th>\n",
              "      <th>od280/od315_of_diluted_wines</th>\n",
              "      <th>proline</th>\n",
              "      <th>target</th>\n",
              "    </tr>\n",
              "  </thead>\n",
              "  <tbody>\n",
              "    <tr>\n",
              "      <th>0</th>\n",
              "      <td>14.23</td>\n",
              "      <td>1.71</td>\n",
              "      <td>2.43</td>\n",
              "      <td>15.6</td>\n",
              "      <td>127.0</td>\n",
              "      <td>2.80</td>\n",
              "      <td>3.06</td>\n",
              "      <td>0.28</td>\n",
              "      <td>2.29</td>\n",
              "      <td>5.64</td>\n",
              "      <td>1.04</td>\n",
              "      <td>3.92</td>\n",
              "      <td>1065.0</td>\n",
              "      <td>0</td>\n",
              "    </tr>\n",
              "    <tr>\n",
              "      <th>1</th>\n",
              "      <td>13.20</td>\n",
              "      <td>1.78</td>\n",
              "      <td>2.14</td>\n",
              "      <td>11.2</td>\n",
              "      <td>100.0</td>\n",
              "      <td>2.65</td>\n",
              "      <td>2.76</td>\n",
              "      <td>0.26</td>\n",
              "      <td>1.28</td>\n",
              "      <td>4.38</td>\n",
              "      <td>1.05</td>\n",
              "      <td>3.40</td>\n",
              "      <td>1050.0</td>\n",
              "      <td>0</td>\n",
              "    </tr>\n",
              "    <tr>\n",
              "      <th>2</th>\n",
              "      <td>13.16</td>\n",
              "      <td>2.36</td>\n",
              "      <td>2.67</td>\n",
              "      <td>18.6</td>\n",
              "      <td>101.0</td>\n",
              "      <td>2.80</td>\n",
              "      <td>3.24</td>\n",
              "      <td>0.30</td>\n",
              "      <td>2.81</td>\n",
              "      <td>5.68</td>\n",
              "      <td>1.03</td>\n",
              "      <td>3.17</td>\n",
              "      <td>1185.0</td>\n",
              "      <td>0</td>\n",
              "    </tr>\n",
              "    <tr>\n",
              "      <th>3</th>\n",
              "      <td>14.37</td>\n",
              "      <td>1.95</td>\n",
              "      <td>2.50</td>\n",
              "      <td>16.8</td>\n",
              "      <td>113.0</td>\n",
              "      <td>3.85</td>\n",
              "      <td>3.49</td>\n",
              "      <td>0.24</td>\n",
              "      <td>2.18</td>\n",
              "      <td>7.80</td>\n",
              "      <td>0.86</td>\n",
              "      <td>3.45</td>\n",
              "      <td>1480.0</td>\n",
              "      <td>0</td>\n",
              "    </tr>\n",
              "    <tr>\n",
              "      <th>4</th>\n",
              "      <td>13.24</td>\n",
              "      <td>2.59</td>\n",
              "      <td>2.87</td>\n",
              "      <td>21.0</td>\n",
              "      <td>118.0</td>\n",
              "      <td>2.80</td>\n",
              "      <td>2.69</td>\n",
              "      <td>0.39</td>\n",
              "      <td>1.82</td>\n",
              "      <td>4.32</td>\n",
              "      <td>1.04</td>\n",
              "      <td>2.93</td>\n",
              "      <td>735.0</td>\n",
              "      <td>0</td>\n",
              "    </tr>\n",
              "  </tbody>\n",
              "</table>\n",
              "</div>\n",
              "    <div class=\"colab-df-buttons\">\n",
              "\n",
              "  <div class=\"colab-df-container\">\n",
              "    <button class=\"colab-df-convert\" onclick=\"convertToInteractive('df-13e0d4cc-d123-4804-af5e-59e577e8b147')\"\n",
              "            title=\"Convert this dataframe to an interactive table.\"\n",
              "            style=\"display:none;\">\n",
              "\n",
              "  <svg xmlns=\"http://www.w3.org/2000/svg\" height=\"24px\" viewBox=\"0 -960 960 960\">\n",
              "    <path d=\"M120-120v-720h720v720H120Zm60-500h600v-160H180v160Zm220 220h160v-160H400v160Zm0 220h160v-160H400v160ZM180-400h160v-160H180v160Zm440 0h160v-160H620v160ZM180-180h160v-160H180v160Zm440 0h160v-160H620v160Z\"/>\n",
              "  </svg>\n",
              "    </button>\n",
              "\n",
              "  <style>\n",
              "    .colab-df-container {\n",
              "      display:flex;\n",
              "      gap: 12px;\n",
              "    }\n",
              "\n",
              "    .colab-df-convert {\n",
              "      background-color: #E8F0FE;\n",
              "      border: none;\n",
              "      border-radius: 50%;\n",
              "      cursor: pointer;\n",
              "      display: none;\n",
              "      fill: #1967D2;\n",
              "      height: 32px;\n",
              "      padding: 0 0 0 0;\n",
              "      width: 32px;\n",
              "    }\n",
              "\n",
              "    .colab-df-convert:hover {\n",
              "      background-color: #E2EBFA;\n",
              "      box-shadow: 0px 1px 2px rgba(60, 64, 67, 0.3), 0px 1px 3px 1px rgba(60, 64, 67, 0.15);\n",
              "      fill: #174EA6;\n",
              "    }\n",
              "\n",
              "    .colab-df-buttons div {\n",
              "      margin-bottom: 4px;\n",
              "    }\n",
              "\n",
              "    [theme=dark] .colab-df-convert {\n",
              "      background-color: #3B4455;\n",
              "      fill: #D2E3FC;\n",
              "    }\n",
              "\n",
              "    [theme=dark] .colab-df-convert:hover {\n",
              "      background-color: #434B5C;\n",
              "      box-shadow: 0px 1px 3px 1px rgba(0, 0, 0, 0.15);\n",
              "      filter: drop-shadow(0px 1px 2px rgba(0, 0, 0, 0.3));\n",
              "      fill: #FFFFFF;\n",
              "    }\n",
              "  </style>\n",
              "\n",
              "    <script>\n",
              "      const buttonEl =\n",
              "        document.querySelector('#df-13e0d4cc-d123-4804-af5e-59e577e8b147 button.colab-df-convert');\n",
              "      buttonEl.style.display =\n",
              "        google.colab.kernel.accessAllowed ? 'block' : 'none';\n",
              "\n",
              "      async function convertToInteractive(key) {\n",
              "        const element = document.querySelector('#df-13e0d4cc-d123-4804-af5e-59e577e8b147');\n",
              "        const dataTable =\n",
              "          await google.colab.kernel.invokeFunction('convertToInteractive',\n",
              "                                                    [key], {});\n",
              "        if (!dataTable) return;\n",
              "\n",
              "        const docLinkHtml = 'Like what you see? Visit the ' +\n",
              "          '<a target=\"_blank\" href=https://colab.research.google.com/notebooks/data_table.ipynb>data table notebook</a>'\n",
              "          + ' to learn more about interactive tables.';\n",
              "        element.innerHTML = '';\n",
              "        dataTable['output_type'] = 'display_data';\n",
              "        await google.colab.output.renderOutput(dataTable, element);\n",
              "        const docLink = document.createElement('div');\n",
              "        docLink.innerHTML = docLinkHtml;\n",
              "        element.appendChild(docLink);\n",
              "      }\n",
              "    </script>\n",
              "  </div>\n",
              "\n",
              "\n",
              "<div id=\"df-1d68e43c-6a6f-4a3d-be51-55752bc858d0\">\n",
              "  <button class=\"colab-df-quickchart\" onclick=\"quickchart('df-1d68e43c-6a6f-4a3d-be51-55752bc858d0')\"\n",
              "            title=\"Suggest charts\"\n",
              "            style=\"display:none;\">\n",
              "\n",
              "<svg xmlns=\"http://www.w3.org/2000/svg\" height=\"24px\"viewBox=\"0 0 24 24\"\n",
              "     width=\"24px\">\n",
              "    <g>\n",
              "        <path d=\"M19 3H5c-1.1 0-2 .9-2 2v14c0 1.1.9 2 2 2h14c1.1 0 2-.9 2-2V5c0-1.1-.9-2-2-2zM9 17H7v-7h2v7zm4 0h-2V7h2v10zm4 0h-2v-4h2v4z\"/>\n",
              "    </g>\n",
              "</svg>\n",
              "  </button>\n",
              "\n",
              "<style>\n",
              "  .colab-df-quickchart {\n",
              "      --bg-color: #E8F0FE;\n",
              "      --fill-color: #1967D2;\n",
              "      --hover-bg-color: #E2EBFA;\n",
              "      --hover-fill-color: #174EA6;\n",
              "      --disabled-fill-color: #AAA;\n",
              "      --disabled-bg-color: #DDD;\n",
              "  }\n",
              "\n",
              "  [theme=dark] .colab-df-quickchart {\n",
              "      --bg-color: #3B4455;\n",
              "      --fill-color: #D2E3FC;\n",
              "      --hover-bg-color: #434B5C;\n",
              "      --hover-fill-color: #FFFFFF;\n",
              "      --disabled-bg-color: #3B4455;\n",
              "      --disabled-fill-color: #666;\n",
              "  }\n",
              "\n",
              "  .colab-df-quickchart {\n",
              "    background-color: var(--bg-color);\n",
              "    border: none;\n",
              "    border-radius: 50%;\n",
              "    cursor: pointer;\n",
              "    display: none;\n",
              "    fill: var(--fill-color);\n",
              "    height: 32px;\n",
              "    padding: 0;\n",
              "    width: 32px;\n",
              "  }\n",
              "\n",
              "  .colab-df-quickchart:hover {\n",
              "    background-color: var(--hover-bg-color);\n",
              "    box-shadow: 0 1px 2px rgba(60, 64, 67, 0.3), 0 1px 3px 1px rgba(60, 64, 67, 0.15);\n",
              "    fill: var(--button-hover-fill-color);\n",
              "  }\n",
              "\n",
              "  .colab-df-quickchart-complete:disabled,\n",
              "  .colab-df-quickchart-complete:disabled:hover {\n",
              "    background-color: var(--disabled-bg-color);\n",
              "    fill: var(--disabled-fill-color);\n",
              "    box-shadow: none;\n",
              "  }\n",
              "\n",
              "  .colab-df-spinner {\n",
              "    border: 2px solid var(--fill-color);\n",
              "    border-color: transparent;\n",
              "    border-bottom-color: var(--fill-color);\n",
              "    animation:\n",
              "      spin 1s steps(1) infinite;\n",
              "  }\n",
              "\n",
              "  @keyframes spin {\n",
              "    0% {\n",
              "      border-color: transparent;\n",
              "      border-bottom-color: var(--fill-color);\n",
              "      border-left-color: var(--fill-color);\n",
              "    }\n",
              "    20% {\n",
              "      border-color: transparent;\n",
              "      border-left-color: var(--fill-color);\n",
              "      border-top-color: var(--fill-color);\n",
              "    }\n",
              "    30% {\n",
              "      border-color: transparent;\n",
              "      border-left-color: var(--fill-color);\n",
              "      border-top-color: var(--fill-color);\n",
              "      border-right-color: var(--fill-color);\n",
              "    }\n",
              "    40% {\n",
              "      border-color: transparent;\n",
              "      border-right-color: var(--fill-color);\n",
              "      border-top-color: var(--fill-color);\n",
              "    }\n",
              "    60% {\n",
              "      border-color: transparent;\n",
              "      border-right-color: var(--fill-color);\n",
              "    }\n",
              "    80% {\n",
              "      border-color: transparent;\n",
              "      border-right-color: var(--fill-color);\n",
              "      border-bottom-color: var(--fill-color);\n",
              "    }\n",
              "    90% {\n",
              "      border-color: transparent;\n",
              "      border-bottom-color: var(--fill-color);\n",
              "    }\n",
              "  }\n",
              "</style>\n",
              "\n",
              "  <script>\n",
              "    async function quickchart(key) {\n",
              "      const quickchartButtonEl =\n",
              "        document.querySelector('#' + key + ' button');\n",
              "      quickchartButtonEl.disabled = true;  // To prevent multiple clicks.\n",
              "      quickchartButtonEl.classList.add('colab-df-spinner');\n",
              "      try {\n",
              "        const charts = await google.colab.kernel.invokeFunction(\n",
              "            'suggestCharts', [key], {});\n",
              "      } catch (error) {\n",
              "        console.error('Error during call to suggestCharts:', error);\n",
              "      }\n",
              "      quickchartButtonEl.classList.remove('colab-df-spinner');\n",
              "      quickchartButtonEl.classList.add('colab-df-quickchart-complete');\n",
              "    }\n",
              "    (() => {\n",
              "      let quickchartButtonEl =\n",
              "        document.querySelector('#df-1d68e43c-6a6f-4a3d-be51-55752bc858d0 button');\n",
              "      quickchartButtonEl.style.display =\n",
              "        google.colab.kernel.accessAllowed ? 'block' : 'none';\n",
              "    })();\n",
              "  </script>\n",
              "</div>\n",
              "\n",
              "    </div>\n",
              "  </div>\n"
            ],
            "application/vnd.google.colaboratory.intrinsic+json": {
              "type": "dataframe",
              "variable_name": "dataset_df",
              "summary": "{\n  \"name\": \"dataset_df\",\n  \"rows\": 178,\n  \"fields\": [\n    {\n      \"column\": \"alcohol\",\n      \"properties\": {\n        \"dtype\": \"number\",\n        \"std\": 0.8118265380058577,\n        \"min\": 11.03,\n        \"max\": 14.83,\n        \"num_unique_values\": 126,\n        \"samples\": [\n          11.62,\n          13.64,\n          13.69\n        ],\n        \"semantic_type\": \"\",\n        \"description\": \"\"\n      }\n    },\n    {\n      \"column\": \"malic_acid\",\n      \"properties\": {\n        \"dtype\": \"number\",\n        \"std\": 1.1171460976144627,\n        \"min\": 0.74,\n        \"max\": 5.8,\n        \"num_unique_values\": 133,\n        \"samples\": [\n          1.21,\n          2.83,\n          1.8\n        ],\n        \"semantic_type\": \"\",\n        \"description\": \"\"\n      }\n    },\n    {\n      \"column\": \"ash\",\n      \"properties\": {\n        \"dtype\": \"number\",\n        \"std\": 0.2743440090608148,\n        \"min\": 1.36,\n        \"max\": 3.23,\n        \"num_unique_values\": 79,\n        \"samples\": [\n          2.31,\n          2.43,\n          2.52\n        ],\n        \"semantic_type\": \"\",\n        \"description\": \"\"\n      }\n    },\n    {\n      \"column\": \"alcalinity_of_ash\",\n      \"properties\": {\n        \"dtype\": \"number\",\n        \"std\": 3.3395637671735052,\n        \"min\": 10.6,\n        \"max\": 30.0,\n        \"num_unique_values\": 63,\n        \"samples\": [\n          25.5,\n          28.5,\n          15.6\n        ],\n        \"semantic_type\": \"\",\n        \"description\": \"\"\n      }\n    },\n    {\n      \"column\": \"magnesium\",\n      \"properties\": {\n        \"dtype\": \"number\",\n        \"std\": 14.282483515295668,\n        \"min\": 70.0,\n        \"max\": 162.0,\n        \"num_unique_values\": 53,\n        \"samples\": [\n          126.0,\n          85.0,\n          162.0\n        ],\n        \"semantic_type\": \"\",\n        \"description\": \"\"\n      }\n    },\n    {\n      \"column\": \"total_phenols\",\n      \"properties\": {\n        \"dtype\": \"number\",\n        \"std\": 0.6258510488339891,\n        \"min\": 0.98,\n        \"max\": 3.88,\n        \"num_unique_values\": 97,\n        \"samples\": [\n          1.68,\n          2.11,\n          1.35\n        ],\n        \"semantic_type\": \"\",\n        \"description\": \"\"\n      }\n    },\n    {\n      \"column\": \"flavanoids\",\n      \"properties\": {\n        \"dtype\": \"number\",\n        \"std\": 0.9988586850169465,\n        \"min\": 0.34,\n        \"max\": 5.08,\n        \"num_unique_values\": 132,\n        \"samples\": [\n          3.18,\n          2.5,\n          3.17\n        ],\n        \"semantic_type\": \"\",\n        \"description\": \"\"\n      }\n    },\n    {\n      \"column\": \"nonflavanoid_phenols\",\n      \"properties\": {\n        \"dtype\": \"number\",\n        \"std\": 0.12445334029667939,\n        \"min\": 0.13,\n        \"max\": 0.66,\n        \"num_unique_values\": 39,\n        \"samples\": [\n          0.58,\n          0.41,\n          0.39\n        ],\n        \"semantic_type\": \"\",\n        \"description\": \"\"\n      }\n    },\n    {\n      \"column\": \"proanthocyanins\",\n      \"properties\": {\n        \"dtype\": \"number\",\n        \"std\": 0.5723588626747611,\n        \"min\": 0.41,\n        \"max\": 3.58,\n        \"num_unique_values\": 101,\n        \"samples\": [\n          0.75,\n          1.77,\n          1.42\n        ],\n        \"semantic_type\": \"\",\n        \"description\": \"\"\n      }\n    },\n    {\n      \"column\": \"color_intensity\",\n      \"properties\": {\n        \"dtype\": \"number\",\n        \"std\": 2.318285871822413,\n        \"min\": 1.28,\n        \"max\": 13.0,\n        \"num_unique_values\": 132,\n        \"samples\": [\n          2.95,\n          3.3,\n          5.1\n        ],\n        \"semantic_type\": \"\",\n        \"description\": \"\"\n      }\n    },\n    {\n      \"column\": \"hue\",\n      \"properties\": {\n        \"dtype\": \"number\",\n        \"std\": 0.22857156582982338,\n        \"min\": 0.48,\n        \"max\": 1.71,\n        \"num_unique_values\": 78,\n        \"samples\": [\n          1.22,\n          1.04,\n          1.45\n        ],\n        \"semantic_type\": \"\",\n        \"description\": \"\"\n      }\n    },\n    {\n      \"column\": \"od280/od315_of_diluted_wines\",\n      \"properties\": {\n        \"dtype\": \"number\",\n        \"std\": 0.7099904287650505,\n        \"min\": 1.27,\n        \"max\": 4.0,\n        \"num_unique_values\": 122,\n        \"samples\": [\n          4.0,\n          1.82,\n          1.59\n        ],\n        \"semantic_type\": \"\",\n        \"description\": \"\"\n      }\n    },\n    {\n      \"column\": \"proline\",\n      \"properties\": {\n        \"dtype\": \"number\",\n        \"std\": 314.9074742768489,\n        \"min\": 278.0,\n        \"max\": 1680.0,\n        \"num_unique_values\": 121,\n        \"samples\": [\n          1375.0,\n          1270.0,\n          735.0\n        ],\n        \"semantic_type\": \"\",\n        \"description\": \"\"\n      }\n    },\n    {\n      \"column\": \"target\",\n      \"properties\": {\n        \"dtype\": \"number\",\n        \"std\": 0,\n        \"min\": 0,\n        \"max\": 2,\n        \"num_unique_values\": 3,\n        \"samples\": [\n          0,\n          1,\n          2\n        ],\n        \"semantic_type\": \"\",\n        \"description\": \"\"\n      }\n    }\n  ]\n}"
            }
          },
          "metadata": {},
          "execution_count": 2
        }
      ],
      "source": [
        "# Loading the dataset\n",
        "dataset = load_wine()\n",
        "\n",
        "# Convert to Pandas DataFrame\n",
        "dataset_df = pd.DataFrame(data=np.c_[dataset['data'], dataset['target']],\n",
        "                     columns=dataset['feature_names'] + ['target'])\n",
        "\n",
        "# Converting class labels to int\n",
        "dataset_df['target'] = dataset_df['target'].astype('int')\n",
        "\n",
        "# Storing references to feature names and (unique) class labels\n",
        "feature_names = dataset['feature_names']\n",
        "class_labels = dataset_df['target'].unique().astype('str')\n",
        "\n",
        "# Get the X (feature matrix) and y (class label vector) from the data\n",
        "X, y = dataset.data, dataset.target\n",
        "\n",
        "print(\"Shape of feature matrix:\", X.shape)\n",
        "\n",
        "# And just to ensure we've loaded what we expect..\n",
        "dataset_df.head()"
      ]
    },
    {
      "cell_type": "markdown",
      "metadata": {
        "id": "rR9amcVn-_AB"
      },
      "source": [
        "## Utility functions"
      ]
    },
    {
      "cell_type": "code",
      "execution_count": 3,
      "metadata": {
        "ExecuteTime": {
          "end_time": "2023-05-15T12:36:01.047484Z",
          "start_time": "2023-05-15T12:36:01.045154Z"
        },
        "id": "v9xBEn7e-_AB"
      },
      "outputs": [],
      "source": [
        "# Visualising the Decision Tree\n",
        "def visualise_tree(model, feature_names, class_labels):\n",
        "    \"\"\"\n",
        "    A function to visualise a decision tree model. This requires graphviz to be installed.\n",
        "    :param model: the decision tree model\n",
        "    :param feature_list: a list of names for the features\n",
        "    :param class_labels: a list of names for the class labels\n",
        "    \"\"\"\n",
        "    graph = Source(tree.export_graphviz(model, out_file=None\n",
        "       , feature_names=feature_names, class_names=class_labels\n",
        "       , filled = True))\n",
        "    graph_svg = SVG(graph.pipe(format='svg'))\n",
        "    display(graph_svg)"
      ]
    },
    {
      "cell_type": "code",
      "execution_count": 4,
      "metadata": {
        "ExecuteTime": {
          "end_time": "2023-05-15T12:36:01.051197Z",
          "start_time": "2023-05-15T12:36:01.048659Z"
        },
        "id": "g_z7V0cY-_AB"
      },
      "outputs": [],
      "source": [
        "# Utility function to report best scores\n",
        "def report(results, rank_metric='score', n_top=3):\n",
        "    \"\"\"\n",
        "    Utility function to report best scores.\n",
        "    :param results: the cv_results_ data structure from the optimisation algorithm\n",
        "    :param rank_metric: name of the metric to report results for\n",
        "    :param n_top: the number of top results to report\n",
        "    \"\"\"\n",
        "    print(\"\\nModels ranked according to\", rank_metric)\n",
        "    for i in range(1, n_top + 1):\n",
        "        candidates = np.flatnonzero(results[\"rank_test_\" + rank_metric] == i)\n",
        "        for candidate in candidates:\n",
        "            print(\"Model with rank: {0}\".format(i))\n",
        "            print(\"Mean validation score: {0:.2f} (+/- {1:.2f})\".format(\n",
        "                  results[\"mean_test_\" + rank_metric][candidate],\n",
        "                  results[\"std_test_\" + rank_metric][candidate]*2))\n",
        "            print(\"Params: {0}\".format(results['params'][candidate]))\n",
        "            print(\"\")"
      ]
    },
    {
      "cell_type": "markdown",
      "metadata": {
        "id": "_2VC3Cnr-_AB"
      },
      "source": [
        "## Manual hyper-parameter optimisation\n",
        "\n",
        "You can do some manual hyper-parameter optimisation here, as before."
      ]
    },
    {
      "cell_type": "code",
      "execution_count": 5,
      "metadata": {
        "ExecuteTime": {
          "end_time": "2023-05-15T12:36:04.668220Z",
          "start_time": "2023-05-15T12:36:01.988521Z"
        },
        "colab": {
          "base_uri": "https://localhost:8080/",
          "height": 775
        },
        "id": "McVdD7Kx-_AB",
        "outputId": "5348863c-3eb1-441d-d239-2a5fd17ecc36"
      },
      "outputs": [
        {
          "output_type": "stream",
          "name": "stdout",
          "text": [
            "Accuracy: 0.90 (+/- 0.17)\n"
          ]
        },
        {
          "output_type": "display_data",
          "data": {
            "text/plain": [
              "<IPython.core.display.SVG object>"
            ],
            "image/svg+xml": "<svg xmlns=\"http://www.w3.org/2000/svg\" xmlns:xlink=\"http://www.w3.org/1999/xlink\" width=\"697pt\" height=\"552pt\" viewBox=\"0.00 0.00 697.00 552.00\">\n<g id=\"graph0\" class=\"graph\" transform=\"scale(1 1) rotate(0) translate(4 548)\">\n<title>Tree</title>\n<polygon fill=\"white\" stroke=\"transparent\" points=\"-4,4 -4,-548 693,-548 693,4 -4,4\"/>\n<!-- 0 -->\n<g id=\"node1\" class=\"node\">\n<title>0</title>\n<polygon fill=\"#ebfcf2\" stroke=\"black\" points=\"335,-544 200,-544 200,-461 335,-461 335,-544\"/>\n<text text-anchor=\"middle\" x=\"267.5\" y=\"-528.8\" font-family=\"Helvetica,sans-Serif\" font-size=\"14.00\">flavanoids &lt;= 1.575</text>\n<text text-anchor=\"middle\" x=\"267.5\" y=\"-513.8\" font-family=\"Helvetica,sans-Serif\" font-size=\"14.00\">entropy = 1.566</text>\n<text text-anchor=\"middle\" x=\"267.5\" y=\"-498.8\" font-family=\"Helvetica,sans-Serif\" font-size=\"14.00\">samples = 160</text>\n<text text-anchor=\"middle\" x=\"267.5\" y=\"-483.8\" font-family=\"Helvetica,sans-Serif\" font-size=\"14.00\">value = [53, 64, 43]</text>\n<text text-anchor=\"middle\" x=\"267.5\" y=\"-468.8\" font-family=\"Helvetica,sans-Serif\" font-size=\"14.00\">class = 1</text>\n</g>\n<!-- 1 -->\n<g id=\"node2\" class=\"node\">\n<title>1</title>\n<polygon fill=\"#a16cec\" stroke=\"black\" points=\"268,-425 107,-425 107,-342 268,-342 268,-425\"/>\n<text text-anchor=\"middle\" x=\"187.5\" y=\"-409.8\" font-family=\"Helvetica,sans-Serif\" font-size=\"14.00\">color_intensity &lt;= 3.825</text>\n<text text-anchor=\"middle\" x=\"187.5\" y=\"-394.8\" font-family=\"Helvetica,sans-Serif\" font-size=\"14.00\">entropy = 0.729</text>\n<text text-anchor=\"middle\" x=\"187.5\" y=\"-379.8\" font-family=\"Helvetica,sans-Serif\" font-size=\"14.00\">samples = 54</text>\n<text text-anchor=\"middle\" x=\"187.5\" y=\"-364.8\" font-family=\"Helvetica,sans-Serif\" font-size=\"14.00\">value = [0, 11, 43]</text>\n<text text-anchor=\"middle\" x=\"187.5\" y=\"-349.8\" font-family=\"Helvetica,sans-Serif\" font-size=\"14.00\">class = 2</text>\n</g>\n<!-- 0&#45;&gt;1 -->\n<g id=\"edge1\" class=\"edge\">\n<title>0-&gt;1</title>\n<path fill=\"none\" stroke=\"black\" d=\"M239.74,-460.91C233.66,-452.01 227.16,-442.51 220.89,-433.33\"/>\n<polygon fill=\"black\" stroke=\"black\" points=\"223.74,-431.3 215.21,-425.02 217.96,-435.25 223.74,-431.3\"/>\n<text text-anchor=\"middle\" x=\"210.59\" y=\"-445.89\" font-family=\"Helvetica,sans-Serif\" font-size=\"14.00\">True</text>\n</g>\n<!-- 4 -->\n<g id=\"node5\" class=\"node\">\n<title>4</title>\n<polygon fill=\"#ffffff\" stroke=\"black\" points=\"411,-425 286,-425 286,-342 411,-342 411,-425\"/>\n<text text-anchor=\"middle\" x=\"348.5\" y=\"-409.8\" font-family=\"Helvetica,sans-Serif\" font-size=\"14.00\">proline &lt;= 755.0</text>\n<text text-anchor=\"middle\" x=\"348.5\" y=\"-394.8\" font-family=\"Helvetica,sans-Serif\" font-size=\"14.00\">entropy = 1.0</text>\n<text text-anchor=\"middle\" x=\"348.5\" y=\"-379.8\" font-family=\"Helvetica,sans-Serif\" font-size=\"14.00\">samples = 106</text>\n<text text-anchor=\"middle\" x=\"348.5\" y=\"-364.8\" font-family=\"Helvetica,sans-Serif\" font-size=\"14.00\">value = [53, 53, 0]</text>\n<text text-anchor=\"middle\" x=\"348.5\" y=\"-349.8\" font-family=\"Helvetica,sans-Serif\" font-size=\"14.00\">class = 0</text>\n</g>\n<!-- 0&#45;&gt;4 -->\n<g id=\"edge4\" class=\"edge\">\n<title>0-&gt;4</title>\n<path fill=\"none\" stroke=\"black\" d=\"M295.6,-460.91C301.76,-452.01 308.34,-442.51 314.69,-433.33\"/>\n<polygon fill=\"black\" stroke=\"black\" points=\"317.63,-435.24 320.45,-425.02 311.88,-431.25 317.63,-435.24\"/>\n<text text-anchor=\"middle\" x=\"324.92\" y=\"-445.92\" font-family=\"Helvetica,sans-Serif\" font-size=\"14.00\">False</text>\n</g>\n<!-- 2 -->\n<g id=\"node3\" class=\"node\">\n<title>2</title>\n<polygon fill=\"#39e581\" stroke=\"black\" points=\"117,-298.5 0,-298.5 0,-230.5 117,-230.5 117,-298.5\"/>\n<text text-anchor=\"middle\" x=\"58.5\" y=\"-283.3\" font-family=\"Helvetica,sans-Serif\" font-size=\"14.00\">entropy = 0.0</text>\n<text text-anchor=\"middle\" x=\"58.5\" y=\"-268.3\" font-family=\"Helvetica,sans-Serif\" font-size=\"14.00\">samples = 11</text>\n<text text-anchor=\"middle\" x=\"58.5\" y=\"-253.3\" font-family=\"Helvetica,sans-Serif\" font-size=\"14.00\">value = [0, 11, 0]</text>\n<text text-anchor=\"middle\" x=\"58.5\" y=\"-238.3\" font-family=\"Helvetica,sans-Serif\" font-size=\"14.00\">class = 1</text>\n</g>\n<!-- 1&#45;&gt;2 -->\n<g id=\"edge2\" class=\"edge\">\n<title>1-&gt;2</title>\n<path fill=\"none\" stroke=\"black\" d=\"M142.74,-341.91C129.73,-330.1 115.52,-317.22 102.55,-305.45\"/>\n<polygon fill=\"black\" stroke=\"black\" points=\"104.83,-302.79 95.07,-298.67 100.12,-307.98 104.83,-302.79\"/>\n</g>\n<!-- 3 -->\n<g id=\"node4\" class=\"node\">\n<title>3</title>\n<polygon fill=\"#8139e5\" stroke=\"black\" points=\"252,-298.5 135,-298.5 135,-230.5 252,-230.5 252,-298.5\"/>\n<text text-anchor=\"middle\" x=\"193.5\" y=\"-283.3\" font-family=\"Helvetica,sans-Serif\" font-size=\"14.00\">entropy = 0.0</text>\n<text text-anchor=\"middle\" x=\"193.5\" y=\"-268.3\" font-family=\"Helvetica,sans-Serif\" font-size=\"14.00\">samples = 43</text>\n<text text-anchor=\"middle\" x=\"193.5\" y=\"-253.3\" font-family=\"Helvetica,sans-Serif\" font-size=\"14.00\">value = [0, 0, 43]</text>\n<text text-anchor=\"middle\" x=\"193.5\" y=\"-238.3\" font-family=\"Helvetica,sans-Serif\" font-size=\"14.00\">class = 2</text>\n</g>\n<!-- 1&#45;&gt;3 -->\n<g id=\"edge3\" class=\"edge\">\n<title>1-&gt;3</title>\n<path fill=\"none\" stroke=\"black\" d=\"M189.58,-341.91C190.13,-331.2 190.72,-319.62 191.28,-308.78\"/>\n<polygon fill=\"black\" stroke=\"black\" points=\"194.78,-308.83 191.8,-298.67 187.79,-308.47 194.78,-308.83\"/>\n</g>\n<!-- 5 -->\n<g id=\"node6\" class=\"node\">\n<title>5</title>\n<polygon fill=\"#3de684\" stroke=\"black\" points=\"406,-306 281,-306 281,-223 406,-223 406,-306\"/>\n<text text-anchor=\"middle\" x=\"343.5\" y=\"-290.8\" font-family=\"Helvetica,sans-Serif\" font-size=\"14.00\">alcohol &lt;= 13.175</text>\n<text text-anchor=\"middle\" x=\"343.5\" y=\"-275.8\" font-family=\"Helvetica,sans-Serif\" font-size=\"14.00\">entropy = 0.139</text>\n<text text-anchor=\"middle\" x=\"343.5\" y=\"-260.8\" font-family=\"Helvetica,sans-Serif\" font-size=\"14.00\">samples = 51</text>\n<text text-anchor=\"middle\" x=\"343.5\" y=\"-245.8\" font-family=\"Helvetica,sans-Serif\" font-size=\"14.00\">value = [1, 50, 0]</text>\n<text text-anchor=\"middle\" x=\"343.5\" y=\"-230.8\" font-family=\"Helvetica,sans-Serif\" font-size=\"14.00\">class = 1</text>\n</g>\n<!-- 4&#45;&gt;5 -->\n<g id=\"edge5\" class=\"edge\">\n<title>4-&gt;5</title>\n<path fill=\"none\" stroke=\"black\" d=\"M346.77,-341.91C346.41,-333.56 346.03,-324.67 345.66,-316.02\"/>\n<polygon fill=\"black\" stroke=\"black\" points=\"349.16,-315.86 345.23,-306.02 342.16,-316.16 349.16,-315.86\"/>\n</g>\n<!-- 10 -->\n<g id=\"node11\" class=\"node\">\n<title>10</title>\n<polygon fill=\"#e68844\" stroke=\"black\" points=\"585,-306 424,-306 424,-223 585,-223 585,-306\"/>\n<text text-anchor=\"middle\" x=\"504.5\" y=\"-290.8\" font-family=\"Helvetica,sans-Serif\" font-size=\"14.00\">color_intensity &lt;= 3.435</text>\n<text text-anchor=\"middle\" x=\"504.5\" y=\"-275.8\" font-family=\"Helvetica,sans-Serif\" font-size=\"14.00\">entropy = 0.305</text>\n<text text-anchor=\"middle\" x=\"504.5\" y=\"-260.8\" font-family=\"Helvetica,sans-Serif\" font-size=\"14.00\">samples = 55</text>\n<text text-anchor=\"middle\" x=\"504.5\" y=\"-245.8\" font-family=\"Helvetica,sans-Serif\" font-size=\"14.00\">value = [52, 3, 0]</text>\n<text text-anchor=\"middle\" x=\"504.5\" y=\"-230.8\" font-family=\"Helvetica,sans-Serif\" font-size=\"14.00\">class = 0</text>\n</g>\n<!-- 4&#45;&gt;10 -->\n<g id=\"edge10\" class=\"edge\">\n<title>4-&gt;10</title>\n<path fill=\"none\" stroke=\"black\" d=\"M402.62,-341.91C415.45,-332.29 429.23,-321.95 442.38,-312.09\"/>\n<polygon fill=\"black\" stroke=\"black\" points=\"444.57,-314.82 450.47,-306.02 440.37,-309.22 444.57,-314.82\"/>\n</g>\n<!-- 6 -->\n<g id=\"node7\" class=\"node\">\n<title>6</title>\n<polygon fill=\"#39e581\" stroke=\"black\" points=\"265,-179.5 148,-179.5 148,-111.5 265,-111.5 265,-179.5\"/>\n<text text-anchor=\"middle\" x=\"206.5\" y=\"-164.3\" font-family=\"Helvetica,sans-Serif\" font-size=\"14.00\">entropy = 0.0</text>\n<text text-anchor=\"middle\" x=\"206.5\" y=\"-149.3\" font-family=\"Helvetica,sans-Serif\" font-size=\"14.00\">samples = 48</text>\n<text text-anchor=\"middle\" x=\"206.5\" y=\"-134.3\" font-family=\"Helvetica,sans-Serif\" font-size=\"14.00\">value = [0, 48, 0]</text>\n<text text-anchor=\"middle\" x=\"206.5\" y=\"-119.3\" font-family=\"Helvetica,sans-Serif\" font-size=\"14.00\">class = 1</text>\n</g>\n<!-- 5&#45;&gt;6 -->\n<g id=\"edge6\" class=\"edge\">\n<title>5-&gt;6</title>\n<path fill=\"none\" stroke=\"black\" d=\"M295.97,-222.91C282.14,-211.1 267.06,-198.22 253.28,-186.45\"/>\n<polygon fill=\"black\" stroke=\"black\" points=\"255.21,-183.5 245.34,-179.67 250.67,-188.82 255.21,-183.5\"/>\n</g>\n<!-- 7 -->\n<g id=\"node8\" class=\"node\">\n<title>7</title>\n<polygon fill=\"#9cf2c0\" stroke=\"black\" points=\"414,-187 283,-187 283,-104 414,-104 414,-187\"/>\n<text text-anchor=\"middle\" x=\"348.5\" y=\"-171.8\" font-family=\"Helvetica,sans-Serif\" font-size=\"14.00\">malic_acid &lt;= 2.82</text>\n<text text-anchor=\"middle\" x=\"348.5\" y=\"-156.8\" font-family=\"Helvetica,sans-Serif\" font-size=\"14.00\">entropy = 0.918</text>\n<text text-anchor=\"middle\" x=\"348.5\" y=\"-141.8\" font-family=\"Helvetica,sans-Serif\" font-size=\"14.00\">samples = 3</text>\n<text text-anchor=\"middle\" x=\"348.5\" y=\"-126.8\" font-family=\"Helvetica,sans-Serif\" font-size=\"14.00\">value = [1, 2, 0]</text>\n<text text-anchor=\"middle\" x=\"348.5\" y=\"-111.8\" font-family=\"Helvetica,sans-Serif\" font-size=\"14.00\">class = 1</text>\n</g>\n<!-- 5&#45;&gt;7 -->\n<g id=\"edge7\" class=\"edge\">\n<title>5-&gt;7</title>\n<path fill=\"none\" stroke=\"black\" d=\"M345.23,-222.91C345.59,-214.56 345.97,-205.67 346.34,-197.02\"/>\n<polygon fill=\"black\" stroke=\"black\" points=\"349.84,-197.16 346.77,-187.02 342.84,-196.86 349.84,-197.16\"/>\n</g>\n<!-- 8 -->\n<g id=\"node9\" class=\"node\">\n<title>8</title>\n<polygon fill=\"#39e581\" stroke=\"black\" points=\"339.5,-68 229.5,-68 229.5,0 339.5,0 339.5,-68\"/>\n<text text-anchor=\"middle\" x=\"284.5\" y=\"-52.8\" font-family=\"Helvetica,sans-Serif\" font-size=\"14.00\">entropy = 0.0</text>\n<text text-anchor=\"middle\" x=\"284.5\" y=\"-37.8\" font-family=\"Helvetica,sans-Serif\" font-size=\"14.00\">samples = 2</text>\n<text text-anchor=\"middle\" x=\"284.5\" y=\"-22.8\" font-family=\"Helvetica,sans-Serif\" font-size=\"14.00\">value = [0, 2, 0]</text>\n<text text-anchor=\"middle\" x=\"284.5\" y=\"-7.8\" font-family=\"Helvetica,sans-Serif\" font-size=\"14.00\">class = 1</text>\n</g>\n<!-- 7&#45;&gt;8 -->\n<g id=\"edge8\" class=\"edge\">\n<title>7-&gt;8</title>\n<path fill=\"none\" stroke=\"black\" d=\"M324.67,-103.73C319.6,-95.06 314.25,-85.9 309.15,-77.18\"/>\n<polygon fill=\"black\" stroke=\"black\" points=\"312.03,-75.17 303.96,-68.3 305.99,-78.7 312.03,-75.17\"/>\n</g>\n<!-- 9 -->\n<g id=\"node10\" class=\"node\">\n<title>9</title>\n<polygon fill=\"#e58139\" stroke=\"black\" points=\"467.5,-68 357.5,-68 357.5,0 467.5,0 467.5,-68\"/>\n<text text-anchor=\"middle\" x=\"412.5\" y=\"-52.8\" font-family=\"Helvetica,sans-Serif\" font-size=\"14.00\">entropy = 0.0</text>\n<text text-anchor=\"middle\" x=\"412.5\" y=\"-37.8\" font-family=\"Helvetica,sans-Serif\" font-size=\"14.00\">samples = 1</text>\n<text text-anchor=\"middle\" x=\"412.5\" y=\"-22.8\" font-family=\"Helvetica,sans-Serif\" font-size=\"14.00\">value = [1, 0, 0]</text>\n<text text-anchor=\"middle\" x=\"412.5\" y=\"-7.8\" font-family=\"Helvetica,sans-Serif\" font-size=\"14.00\">class = 0</text>\n</g>\n<!-- 7&#45;&gt;9 -->\n<g id=\"edge9\" class=\"edge\">\n<title>7-&gt;9</title>\n<path fill=\"none\" stroke=\"black\" d=\"M372.33,-103.73C377.4,-95.06 382.75,-85.9 387.85,-77.18\"/>\n<polygon fill=\"black\" stroke=\"black\" points=\"391.01,-78.7 393.04,-68.3 384.97,-75.17 391.01,-78.7\"/>\n</g>\n<!-- 11 -->\n<g id=\"node12\" class=\"node\">\n<title>11</title>\n<polygon fill=\"#39e581\" stroke=\"black\" points=\"553.5,-179.5 443.5,-179.5 443.5,-111.5 553.5,-111.5 553.5,-179.5\"/>\n<text text-anchor=\"middle\" x=\"498.5\" y=\"-164.3\" font-family=\"Helvetica,sans-Serif\" font-size=\"14.00\">entropy = 0.0</text>\n<text text-anchor=\"middle\" x=\"498.5\" y=\"-149.3\" font-family=\"Helvetica,sans-Serif\" font-size=\"14.00\">samples = 3</text>\n<text text-anchor=\"middle\" x=\"498.5\" y=\"-134.3\" font-family=\"Helvetica,sans-Serif\" font-size=\"14.00\">value = [0, 3, 0]</text>\n<text text-anchor=\"middle\" x=\"498.5\" y=\"-119.3\" font-family=\"Helvetica,sans-Serif\" font-size=\"14.00\">class = 1</text>\n</g>\n<!-- 10&#45;&gt;11 -->\n<g id=\"edge11\" class=\"edge\">\n<title>10-&gt;11</title>\n<path fill=\"none\" stroke=\"black\" d=\"M502.42,-222.91C501.87,-212.2 501.28,-200.62 500.72,-189.78\"/>\n<polygon fill=\"black\" stroke=\"black\" points=\"504.21,-189.47 500.2,-179.67 497.22,-189.83 504.21,-189.47\"/>\n</g>\n<!-- 12 -->\n<g id=\"node13\" class=\"node\">\n<title>12</title>\n<polygon fill=\"#e58139\" stroke=\"black\" points=\"689,-179.5 572,-179.5 572,-111.5 689,-111.5 689,-179.5\"/>\n<text text-anchor=\"middle\" x=\"630.5\" y=\"-164.3\" font-family=\"Helvetica,sans-Serif\" font-size=\"14.00\">entropy = 0.0</text>\n<text text-anchor=\"middle\" x=\"630.5\" y=\"-149.3\" font-family=\"Helvetica,sans-Serif\" font-size=\"14.00\">samples = 52</text>\n<text text-anchor=\"middle\" x=\"630.5\" y=\"-134.3\" font-family=\"Helvetica,sans-Serif\" font-size=\"14.00\">value = [52, 0, 0]</text>\n<text text-anchor=\"middle\" x=\"630.5\" y=\"-119.3\" font-family=\"Helvetica,sans-Serif\" font-size=\"14.00\">class = 0</text>\n</g>\n<!-- 10&#45;&gt;12 -->\n<g id=\"edge12\" class=\"edge\">\n<title>10-&gt;12</title>\n<path fill=\"none\" stroke=\"black\" d=\"M548.22,-222.91C560.81,-211.21 574.55,-198.46 587.12,-186.78\"/>\n<polygon fill=\"black\" stroke=\"black\" points=\"589.84,-189.04 594.78,-179.67 585.07,-183.91 589.84,-189.04\"/>\n</g>\n</g>\n</svg>"
          },
          "metadata": {}
        }
      ],
      "source": [
        "# Instanting model\n",
        "model = DecisionTreeClassifier(max_depth=None, # smaller or larger depth?\n",
        "                               criterion='entropy') # gini vs entropy?\n",
        "\n",
        "# 10-fold cross-validation\n",
        "scores = cross_validate(model, X, y, cv=10, return_estimator=True)\n",
        "\n",
        "print(\"Accuracy: %0.2f (+/- %0.2f)\" % (scores['test_score'].mean(), scores['test_score'].std() * 2))\n",
        "\n",
        "# Getting the trained model from the 1st fold\n",
        "model = scores['estimator'][0]\n",
        "\n",
        "# Visualising the tree\n",
        "visualise_tree(model, feature_names, class_labels)"
      ]
    },
    {
      "cell_type": "markdown",
      "metadata": {
        "id": "3bRywpwe-_AB"
      },
      "source": [
        "## Hyper-parameter optimisation\n",
        "\n",
        "Examples modified from: https://scikit-learn.org/stable/auto_examples/model_selection/plot_randomized_search.html\n",
        " * [Randomised Search](https://scikit-learn.org/stable/modules/generated/sklearn.model_selection.RandomizedSearchCV.html)\n",
        " * [Grid Search](https://scikit-learn.org/stable/modules/generated/sklearn.model_selection.GridSearchCV.html)"
      ]
    },
    {
      "cell_type": "markdown",
      "metadata": {
        "id": "hud2-ScR-_AC"
      },
      "source": [
        "### Random Search\n",
        "\n",
        "**TODO:** Apply Random Search here as per the lab tasks / instructions."
      ]
    },
    {
      "cell_type": "code",
      "execution_count": 7,
      "metadata": {
        "ExecuteTime": {
          "end_time": "2023-05-15T12:38:00.135793Z",
          "start_time": "2023-05-15T12:37:59.224553Z"
        },
        "colab": {
          "base_uri": "https://localhost:8080/"
        },
        "id": "QTbqEm-8-_AC",
        "outputId": "83afb017-9fb9-4b66-a4ea-81d0f80b032f"
      },
      "outputs": [
        {
          "output_type": "stream",
          "name": "stdout",
          "text": [
            "\n",
            "Models ranked according to score\n",
            "Model with rank: 1\n",
            "Mean validation score: 0.92 (+/- 0.15)\n",
            "Params: {'max_depth': 8, 'criterion': 'entropy'}\n",
            "\n",
            "Model with rank: 2\n",
            "Mean validation score: 0.90 (+/- 0.18)\n",
            "Params: {'max_depth': 3, 'criterion': 'log_loss'}\n",
            "\n",
            "Model with rank: 2\n",
            "Mean validation score: 0.90 (+/- 0.18)\n",
            "Params: {'max_depth': 3, 'criterion': 'entropy'}\n",
            "\n",
            "\n",
            "RandomizedSearchCV took 0.54 seconds for 20 candidates parameter settings.\n"
          ]
        }
      ],
      "source": [
        "model = DecisionTreeClassifier()\n",
        "\n",
        "param_dict = {\"max_depth\": [2, 3, 4, 5, 6, 7, 8, 9, 10, None],\n",
        "              \"criterion\": [\"gini\", \"entropy\", \"log_loss\"]}\n",
        "\n",
        "n_iter_search = 20 # the number of random combinations of hyper-parameter values that will be tested\n",
        "\n",
        "random_search = RandomizedSearchCV(model,param_distributions=param_dict,\n",
        "                                   n_iter=n_iter_search, cv=10)\n",
        "\n",
        "random_search.fit(X, y)\n",
        "\n",
        "report(random_search.cv_results_)\n",
        "\n",
        "start_time = time()\n",
        "random_search.fit(X, y)\n",
        "end_time = time()\n",
        "\n",
        "print(\"\\nRandomizedSearchCV took %.2f seconds for %d candidates\"\n",
        "      \" parameter settings.\" % ((end_time - start_time), n_iter_search))\n"
      ]
    },
    {
      "cell_type": "markdown",
      "metadata": {
        "id": "hx4yPJ0R-_AC"
      },
      "source": [
        "### Grid Search\n",
        "\n",
        "**TODO:** Apply Grid Search here as per the lab tasks / instructions."
      ]
    },
    {
      "cell_type": "code",
      "execution_count": 8,
      "metadata": {
        "ExecuteTime": {
          "end_time": "2023-05-15T12:39:42.002690Z",
          "start_time": "2023-05-15T12:39:39.794522Z"
        },
        "colab": {
          "base_uri": "https://localhost:8080/",
          "height": 454
        },
        "id": "TxxPu2M6-_AC",
        "outputId": "e41a785e-cea3-4590-bc1e-b6d5df8b308b"
      },
      "outputs": [
        {
          "output_type": "stream",
          "name": "stdout",
          "text": [
            "\n",
            "Models ranked according to score\n",
            "Model with rank: 1\n",
            "Mean validation score: 0.92 (+/- 0.15)\n",
            "Params: {'max_depth': 6, 'criterion': 'entropy'}\n",
            "\n",
            "Model with rank: 2\n",
            "Mean validation score: 0.91 (+/- 0.14)\n",
            "Params: {'max_depth': 9, 'criterion': 'log_loss'}\n",
            "\n",
            "Model with rank: 3\n",
            "Mean validation score: 0.91 (+/- 0.13)\n",
            "Params: {'max_depth': 4, 'criterion': 'entropy'}\n",
            "\n"
          ]
        },
        {
          "output_type": "error",
          "ename": "AttributeError",
          "evalue": "'GridSearchCV' object has no attribute 'cv_results_'",
          "traceback": [
            "\u001b[0;31m---------------------------------------------------------------------------\u001b[0m",
            "\u001b[0;31mAttributeError\u001b[0m                            Traceback (most recent call last)",
            "\u001b[0;32m<ipython-input-8-5176182969db>\u001b[0m in \u001b[0;36m<cell line: 20>\u001b[0;34m()\u001b[0m\n\u001b[1;32m     18\u001b[0m \u001b[0mend_time\u001b[0m \u001b[0;34m=\u001b[0m \u001b[0mtime\u001b[0m\u001b[0;34m(\u001b[0m\u001b[0;34m)\u001b[0m\u001b[0;34m\u001b[0m\u001b[0;34m\u001b[0m\u001b[0m\n\u001b[1;32m     19\u001b[0m \u001b[0;34m\u001b[0m\u001b[0m\n\u001b[0;32m---> 20\u001b[0;31m \u001b[0mnumber_of_candidate_solutions\u001b[0m \u001b[0;34m=\u001b[0m \u001b[0mlen\u001b[0m\u001b[0;34m(\u001b[0m\u001b[0mgrid_search\u001b[0m\u001b[0;34m.\u001b[0m\u001b[0mcv_results_\u001b[0m\u001b[0;34m[\u001b[0m\u001b[0;34m'params'\u001b[0m\u001b[0;34m]\u001b[0m\u001b[0;34m)\u001b[0m\u001b[0;34m\u001b[0m\u001b[0;34m\u001b[0m\u001b[0m\n\u001b[0m\u001b[1;32m     21\u001b[0m \u001b[0;34m\u001b[0m\u001b[0m\n\u001b[1;32m     22\u001b[0m \u001b[0mprint\u001b[0m\u001b[0;34m(\u001b[0m\u001b[0;34m\"Number of combinations evaluated:\"\u001b[0m\u001b[0;34m,\u001b[0m \u001b[0mnumber_of_candidate_solutions\u001b[0m\u001b[0;34m)\u001b[0m\u001b[0;34m\u001b[0m\u001b[0;34m\u001b[0m\u001b[0m\n",
            "\u001b[0;31mAttributeError\u001b[0m: 'GridSearchCV' object has no attribute 'cv_results_'"
          ]
        }
      ],
      "source": [
        "model = DecisionTreeClassifier()\n",
        "\n",
        "param_grid = {\"max_depth\": [2, 3, 4, 5, 6, 7, 8, 9, 10, None],\n",
        "              \"criterion\": [\"gini\", \"entropy\", \"log_loss\"]}\n",
        "\n",
        "n_iter_search = 20 # the number of random combinations of hyper-parameter values that will be tested\n",
        "\n",
        "grid_search = GridSearchCV(model,\n",
        "                           param_grid=param_grid,\n",
        "                           cv=10)\n",
        "\n",
        "random_search.fit(X, y)\n",
        "\n",
        "report(random_search.cv_results_)\n",
        "\n",
        "start_time = time()\n",
        "random_search.fit(X, y)\n",
        "end_time = time()\n",
        "\n",
        "number_of_candidate_solutions = len(grid_search.cv_results_['params'])\n",
        "\n",
        "print(\"Number of combinations evaluated:\", number_of_candidate_solutions)"
      ]
    },
    {
      "cell_type": "markdown",
      "metadata": {
        "id": "z9sSYNVf-_AC"
      },
      "source": [
        "### Multi-metric evaluation for GridSearch\n",
        "\n",
        "Defining metrics: https://scikit-learn.org/stable/modules/model_evaluation.html#scoring-parameter\n",
        "\n",
        "Done something similar previously. See Lab 07 (solutions).\n",
        "\n",
        "Another example you may find interesting: https://scikit-learn.org/stable/auto_examples/model_selection/plot_multi_metric_evaluation.html"
      ]
    },
    {
      "cell_type": "code",
      "execution_count": null,
      "metadata": {
        "ExecuteTime": {
          "end_time": "2021-12-07T11:35:34.960560Z",
          "start_time": "2021-12-07T11:35:25.417874Z"
        },
        "id": "CXvJP38O-_AC"
      },
      "outputs": [],
      "source": [
        "\n"
      ]
    },
    {
      "cell_type": "markdown",
      "metadata": {
        "id": "mlZwKGal-_AC"
      },
      "source": [
        "## Recursive Feature Elimination\n",
        "\n",
        "**TODO:** run RFE and analyse the outputs."
      ]
    },
    {
      "cell_type": "code",
      "execution_count": null,
      "metadata": {
        "ExecuteTime": {
          "end_time": "2022-12-01T14:37:51.820959Z",
          "start_time": "2022-12-01T14:37:51.739361Z"
        },
        "id": "awA3CiaY-_AC"
      },
      "outputs": [],
      "source": [
        "# Instantiating classifier (with default hyper-parameter values)\n",
        "model = DecisionTreeClassifier()\n",
        "\n",
        "# Instantiating (setting up) RFE\n",
        "rfecv = RFECV(estimator=model, step=1, cv=StratifiedKFold(5), scoring='accuracy')\n",
        "\n",
        "start_time = time()\n",
        "rfecv.fit(X, y)\n",
        "end_time = time()\n",
        "\n",
        "# Printing out the results\n",
        "print(\"RFECV took %.2f seconds to identify %d features\" %\n",
        "      ((end_time - start_time), rfecv.n_features_))\n",
        "print(rfecv.ranking_)"
      ]
    },
    {
      "cell_type": "code",
      "execution_count": null,
      "metadata": {
        "ExecuteTime": {
          "end_time": "2022-12-01T14:37:55.368583Z",
          "start_time": "2022-12-01T14:37:55.354541Z"
        },
        "id": "Y9A9zrjB-_AC"
      },
      "outputs": [],
      "source": [
        "# Creating a DataFrame to display the original columns and their ranking\n",
        "feature_ranking_df = pd.DataFrame()\n",
        "feature_ranking_df['feature'] = dataset['feature_names']\n",
        "feature_ranking_df['rank'] = rfecv.ranking_\n",
        "\n",
        "feature_ranking_df = feature_ranking_df.sort_values(by='rank', ascending=True)\n",
        "feature_ranking_df"
      ]
    },
    {
      "cell_type": "markdown",
      "metadata": {
        "id": "iN3tmg8r-_AD"
      },
      "source": [
        "## Random Forest Feature Importance\n",
        "\n",
        "**TODO:** run Random Forest and analyse the feature importances. Compare with RFE, above."
      ]
    },
    {
      "cell_type": "code",
      "execution_count": null,
      "metadata": {
        "ExecuteTime": {
          "end_time": "2022-12-01T14:40:12.817762Z",
          "start_time": "2022-12-01T14:40:11.819555Z"
        },
        "id": "T91zZuQ_-_AD"
      },
      "outputs": [],
      "source": [
        "# Instantiating RandomForest classifier (with default hyper-parameter values)\n",
        "model = RandomForestClassifier(n_estimators=200,random_state=None)\n",
        "\n",
        "# 5-fold cross validation, returning a trained model\n",
        "scores = cross_validate(model, X, y, cv=5, return_estimator=True)\n",
        "\n",
        "# Getting the trained model from the 1st fold\n",
        "estimator = scores['estimator'][0]"
      ]
    },
    {
      "cell_type": "code",
      "execution_count": null,
      "metadata": {
        "ExecuteTime": {
          "end_time": "2022-12-01T14:40:15.705027Z",
          "start_time": "2022-12-01T14:40:15.673325Z"
        },
        "id": "MnPeBEud-_AD"
      },
      "outputs": [],
      "source": [
        "# Creating a DataFrame to display the original columns and their importance\n",
        "feature_importance_df = pd.DataFrame()\n",
        "feature_importance_df['feature'] = dataset['feature_names']\n",
        "feature_importance_df['importance'] = estimator.feature_importances_\n",
        "\n",
        "feature_importance_df = feature_importance_df.sort_values(by='importance', ascending=True)\n",
        "#feature_importance_df"
      ]
    },
    {
      "cell_type": "code",
      "execution_count": null,
      "metadata": {
        "ExecuteTime": {
          "end_time": "2022-12-01T14:40:19.687931Z",
          "start_time": "2022-12-01T14:40:19.375141Z"
        },
        "id": "8GBjAWR3-_AD"
      },
      "outputs": [],
      "source": [
        "feature_importance_df.plot(kind='barh',\n",
        "                           x='feature',\n",
        "                           y='importance',\n",
        "                           title='RF Feature Importance',\n",
        "                           xlabel='',\n",
        "                           figsize=(16, 9),\n",
        "                           fontsize=16)"
      ]
    },
    {
      "cell_type": "code",
      "execution_count": null,
      "metadata": {
        "id": "56DwiUek-_AD"
      },
      "outputs": [],
      "source": []
    }
  ],
  "metadata": {
    "kernelspec": {
      "display_name": "Python 3 (ipykernel)",
      "language": "python",
      "name": "python3"
    },
    "language_info": {
      "codemirror_mode": {
        "name": "ipython",
        "version": 3
      },
      "file_extension": ".py",
      "mimetype": "text/x-python",
      "name": "python",
      "nbconvert_exporter": "python",
      "pygments_lexer": "ipython3",
      "version": "3.11.1"
    },
    "toc": {
      "base_numbering": 1,
      "nav_menu": {},
      "number_sections": true,
      "sideBar": true,
      "skip_h1_title": false,
      "title_cell": "Table of Contents",
      "title_sidebar": "Contents",
      "toc_cell": false,
      "toc_position": {},
      "toc_section_display": true,
      "toc_window_display": true
    },
    "varInspector": {
      "cols": {
        "lenName": 16,
        "lenType": 16,
        "lenVar": 40
      },
      "kernels_config": {
        "python": {
          "delete_cmd_postfix": "",
          "delete_cmd_prefix": "del ",
          "library": "var_list.py",
          "varRefreshCmd": "print(var_dic_list())"
        },
        "r": {
          "delete_cmd_postfix": ") ",
          "delete_cmd_prefix": "rm(",
          "library": "var_list.r",
          "varRefreshCmd": "cat(var_dic_list()) "
        }
      },
      "types_to_exclude": [
        "module",
        "function",
        "builtin_function_or_method",
        "instance",
        "_Feature"
      ],
      "window_display": false
    },
    "colab": {
      "provenance": [],
      "include_colab_link": true
    }
  },
  "nbformat": 4,
  "nbformat_minor": 0
}